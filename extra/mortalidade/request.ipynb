{
 "cells": [
  {
   "cell_type": "code",
   "execution_count": 1,
   "metadata": {
    "pycharm": {
     "is_executing": false
    }
   },
   "outputs": [],
   "source": [
    "from scraping import *"
   ]
  },
  {
   "cell_type": "markdown",
   "metadata": {},
   "source": [
    "## Geral"
   ]
  },
  {
   "cell_type": "code",
   "execution_count": 2,
   "metadata": {
    "pycharm": {
     "is_executing": false
    }
   },
   "outputs": [
    {
     "data": {
      "text/plain": "     mortes        data\n0       423  01-01-2009\n1       435  02-01-2009\n2       416  03-01-2009\n3       380  04-01-2009\n4       446  05-01-2009\n...     ...         ...\n4193    268  16-06-2020\n4194    336  17-06-2020\n4195    248  18-06-2020\n4196    240  19-06-2020\n4197    105  20-06-2020\n\n[4189 rows x 2 columns]",
      "text/html": "<div>\n<style scoped>\n    .dataframe tbody tr th:only-of-type {\n        vertical-align: middle;\n    }\n\n    .dataframe tbody tr th {\n        vertical-align: top;\n    }\n\n    .dataframe thead th {\n        text-align: right;\n    }\n</style>\n<table border=\"1\" class=\"dataframe\">\n  <thead>\n    <tr style=\"text-align: right;\">\n      <th></th>\n      <th>mortes</th>\n      <th>data</th>\n    </tr>\n  </thead>\n  <tbody>\n    <tr>\n      <th>0</th>\n      <td>423</td>\n      <td>01-01-2009</td>\n    </tr>\n    <tr>\n      <th>1</th>\n      <td>435</td>\n      <td>02-01-2009</td>\n    </tr>\n    <tr>\n      <th>2</th>\n      <td>416</td>\n      <td>03-01-2009</td>\n    </tr>\n    <tr>\n      <th>3</th>\n      <td>380</td>\n      <td>04-01-2009</td>\n    </tr>\n    <tr>\n      <th>4</th>\n      <td>446</td>\n      <td>05-01-2009</td>\n    </tr>\n    <tr>\n      <th>...</th>\n      <td>...</td>\n      <td>...</td>\n    </tr>\n    <tr>\n      <th>4193</th>\n      <td>268</td>\n      <td>16-06-2020</td>\n    </tr>\n    <tr>\n      <th>4194</th>\n      <td>336</td>\n      <td>17-06-2020</td>\n    </tr>\n    <tr>\n      <th>4195</th>\n      <td>248</td>\n      <td>18-06-2020</td>\n    </tr>\n    <tr>\n      <th>4196</th>\n      <td>240</td>\n      <td>19-06-2020</td>\n    </tr>\n    <tr>\n      <th>4197</th>\n      <td>105</td>\n      <td>20-06-2020</td>\n    </tr>\n  </tbody>\n</table>\n<p>4189 rows × 2 columns</p>\n</div>"
     },
     "metadata": {},
     "output_type": "execute_result",
     "execution_count": 2
    }
   ],
   "source": [
    "raw = get_data('geral')\n",
    "parse_geral(raw)"
   ]
  },
  {
   "cell_type": "markdown",
   "metadata": {},
   "source": [
    "## Causas"
   ]
  },
  {
   "cell_type": "code",
   "execution_count": 3,
   "metadata": {
    "pycharm": {
     "is_executing": false
    }
   },
   "outputs": [
    {
     "data": {
      "text/plain": "    Morte natural Causa externa Sujeito a investigação        data\n0             333             5                     37  01-01-2014\n1             329            10                     55  02-01-2014\n2             354             7                     38  03-01-2014\n3             299             2                     26  04-01-2014\n4             327             2                     30  05-01-2014\n..            ...           ...                    ...         ...\n167           228             9                     31  16-06-2020\n168           308             7                     21  17-06-2020\n169           220             6                     22  18-06-2020\n170           227             1                     12  19-06-2020\n171           100             2                      3  20-06-2020\n\n[2363 rows x 4 columns]",
      "text/html": "<div>\n<style scoped>\n    .dataframe tbody tr th:only-of-type {\n        vertical-align: middle;\n    }\n\n    .dataframe tbody tr th {\n        vertical-align: top;\n    }\n\n    .dataframe thead th {\n        text-align: right;\n    }\n</style>\n<table border=\"1\" class=\"dataframe\">\n  <thead>\n    <tr style=\"text-align: right;\">\n      <th></th>\n      <th>Morte natural</th>\n      <th>Causa externa</th>\n      <th>Sujeito a investigação</th>\n      <th>data</th>\n    </tr>\n  </thead>\n  <tbody>\n    <tr>\n      <th>0</th>\n      <td>333</td>\n      <td>5</td>\n      <td>37</td>\n      <td>01-01-2014</td>\n    </tr>\n    <tr>\n      <th>1</th>\n      <td>329</td>\n      <td>10</td>\n      <td>55</td>\n      <td>02-01-2014</td>\n    </tr>\n    <tr>\n      <th>2</th>\n      <td>354</td>\n      <td>7</td>\n      <td>38</td>\n      <td>03-01-2014</td>\n    </tr>\n    <tr>\n      <th>3</th>\n      <td>299</td>\n      <td>2</td>\n      <td>26</td>\n      <td>04-01-2014</td>\n    </tr>\n    <tr>\n      <th>4</th>\n      <td>327</td>\n      <td>2</td>\n      <td>30</td>\n      <td>05-01-2014</td>\n    </tr>\n    <tr>\n      <th>...</th>\n      <td>...</td>\n      <td>...</td>\n      <td>...</td>\n      <td>...</td>\n    </tr>\n    <tr>\n      <th>167</th>\n      <td>228</td>\n      <td>9</td>\n      <td>31</td>\n      <td>16-06-2020</td>\n    </tr>\n    <tr>\n      <th>168</th>\n      <td>308</td>\n      <td>7</td>\n      <td>21</td>\n      <td>17-06-2020</td>\n    </tr>\n    <tr>\n      <th>169</th>\n      <td>220</td>\n      <td>6</td>\n      <td>22</td>\n      <td>18-06-2020</td>\n    </tr>\n    <tr>\n      <th>170</th>\n      <td>227</td>\n      <td>1</td>\n      <td>12</td>\n      <td>19-06-2020</td>\n    </tr>\n    <tr>\n      <th>171</th>\n      <td>100</td>\n      <td>2</td>\n      <td>3</td>\n      <td>20-06-2020</td>\n    </tr>\n  </tbody>\n</table>\n<p>2363 rows × 4 columns</p>\n</div>"
     },
     "metadata": {},
     "output_type": "execute_result",
     "execution_count": 3
    }
   ],
   "source": [
    "raw = get_data('causas')\n",
    "parse_multiyear_tabs(raw)"
   ]
  },
  {
   "cell_type": "markdown",
   "metadata": {},
   "source": [
    "## Grupo etário"
   ]
  },
  {
   "cell_type": "code",
   "execution_count": 4,
   "metadata": {
    "pycharm": {
     "is_executing": false
    }
   },
   "outputs": [
    {
     "data": {
      "text/plain": "    < 1 ano 1-4 anos 5-14 anos 15-24 anos 25-34 anos 35-44 anos 45-54 anos  \\\n0         0        0         0          1          2          7         13   \n1         0        0         2          0          2          6         18   \n2         2        0         1          1          6          7         20   \n3         1        0         0          1          1          5         20   \n4         0        0         0          0          3          2         15   \n..      ...      ...       ...        ...        ...        ...        ...   \n167       1        0         0          2          1          1         11   \n168       0        1         0          0          3          7         11   \n169       0        0         1          0          1          6          4   \n170       0        0         1          0          0          3          6   \n171       0        0         0          0          1          1          3   \n\n    55-64 anos 65-74 anos 75-84 anos ≥ 85 anos Desconhecido        data  \n0           27         60        118       147            0  01-01-2014  \n1           27         71        126       142            0  02-01-2014  \n2           35         61        109       157            0  03-01-2014  \n3           23         47         97       132            0  04-01-2014  \n4           32         54        114       139            0  05-01-2014  \n..         ...        ...        ...       ...          ...         ...  \n167         19         45         75       112            1  16-06-2020  \n168         36         57         99       122            0  17-06-2020  \n169         16         32         81       106            1  18-06-2020  \n170         19         44         60       107            0  19-06-2020  \n171          5         15         31        49            0  20-06-2020  \n\n[2363 rows x 13 columns]",
      "text/html": "<div>\n<style scoped>\n    .dataframe tbody tr th:only-of-type {\n        vertical-align: middle;\n    }\n\n    .dataframe tbody tr th {\n        vertical-align: top;\n    }\n\n    .dataframe thead th {\n        text-align: right;\n    }\n</style>\n<table border=\"1\" class=\"dataframe\">\n  <thead>\n    <tr style=\"text-align: right;\">\n      <th></th>\n      <th>&lt; 1 ano</th>\n      <th>1-4 anos</th>\n      <th>5-14 anos</th>\n      <th>15-24 anos</th>\n      <th>25-34 anos</th>\n      <th>35-44 anos</th>\n      <th>45-54 anos</th>\n      <th>55-64 anos</th>\n      <th>65-74 anos</th>\n      <th>75-84 anos</th>\n      <th>≥ 85 anos</th>\n      <th>Desconhecido</th>\n      <th>data</th>\n    </tr>\n  </thead>\n  <tbody>\n    <tr>\n      <th>0</th>\n      <td>0</td>\n      <td>0</td>\n      <td>0</td>\n      <td>1</td>\n      <td>2</td>\n      <td>7</td>\n      <td>13</td>\n      <td>27</td>\n      <td>60</td>\n      <td>118</td>\n      <td>147</td>\n      <td>0</td>\n      <td>01-01-2014</td>\n    </tr>\n    <tr>\n      <th>1</th>\n      <td>0</td>\n      <td>0</td>\n      <td>2</td>\n      <td>0</td>\n      <td>2</td>\n      <td>6</td>\n      <td>18</td>\n      <td>27</td>\n      <td>71</td>\n      <td>126</td>\n      <td>142</td>\n      <td>0</td>\n      <td>02-01-2014</td>\n    </tr>\n    <tr>\n      <th>2</th>\n      <td>2</td>\n      <td>0</td>\n      <td>1</td>\n      <td>1</td>\n      <td>6</td>\n      <td>7</td>\n      <td>20</td>\n      <td>35</td>\n      <td>61</td>\n      <td>109</td>\n      <td>157</td>\n      <td>0</td>\n      <td>03-01-2014</td>\n    </tr>\n    <tr>\n      <th>3</th>\n      <td>1</td>\n      <td>0</td>\n      <td>0</td>\n      <td>1</td>\n      <td>1</td>\n      <td>5</td>\n      <td>20</td>\n      <td>23</td>\n      <td>47</td>\n      <td>97</td>\n      <td>132</td>\n      <td>0</td>\n      <td>04-01-2014</td>\n    </tr>\n    <tr>\n      <th>4</th>\n      <td>0</td>\n      <td>0</td>\n      <td>0</td>\n      <td>0</td>\n      <td>3</td>\n      <td>2</td>\n      <td>15</td>\n      <td>32</td>\n      <td>54</td>\n      <td>114</td>\n      <td>139</td>\n      <td>0</td>\n      <td>05-01-2014</td>\n    </tr>\n    <tr>\n      <th>...</th>\n      <td>...</td>\n      <td>...</td>\n      <td>...</td>\n      <td>...</td>\n      <td>...</td>\n      <td>...</td>\n      <td>...</td>\n      <td>...</td>\n      <td>...</td>\n      <td>...</td>\n      <td>...</td>\n      <td>...</td>\n      <td>...</td>\n    </tr>\n    <tr>\n      <th>167</th>\n      <td>1</td>\n      <td>0</td>\n      <td>0</td>\n      <td>2</td>\n      <td>1</td>\n      <td>1</td>\n      <td>11</td>\n      <td>19</td>\n      <td>45</td>\n      <td>75</td>\n      <td>112</td>\n      <td>1</td>\n      <td>16-06-2020</td>\n    </tr>\n    <tr>\n      <th>168</th>\n      <td>0</td>\n      <td>1</td>\n      <td>0</td>\n      <td>0</td>\n      <td>3</td>\n      <td>7</td>\n      <td>11</td>\n      <td>36</td>\n      <td>57</td>\n      <td>99</td>\n      <td>122</td>\n      <td>0</td>\n      <td>17-06-2020</td>\n    </tr>\n    <tr>\n      <th>169</th>\n      <td>0</td>\n      <td>0</td>\n      <td>1</td>\n      <td>0</td>\n      <td>1</td>\n      <td>6</td>\n      <td>4</td>\n      <td>16</td>\n      <td>32</td>\n      <td>81</td>\n      <td>106</td>\n      <td>1</td>\n      <td>18-06-2020</td>\n    </tr>\n    <tr>\n      <th>170</th>\n      <td>0</td>\n      <td>0</td>\n      <td>1</td>\n      <td>0</td>\n      <td>0</td>\n      <td>3</td>\n      <td>6</td>\n      <td>19</td>\n      <td>44</td>\n      <td>60</td>\n      <td>107</td>\n      <td>0</td>\n      <td>19-06-2020</td>\n    </tr>\n    <tr>\n      <th>171</th>\n      <td>0</td>\n      <td>0</td>\n      <td>0</td>\n      <td>0</td>\n      <td>1</td>\n      <td>1</td>\n      <td>3</td>\n      <td>5</td>\n      <td>15</td>\n      <td>31</td>\n      <td>49</td>\n      <td>0</td>\n      <td>20-06-2020</td>\n    </tr>\n  </tbody>\n</table>\n<p>2363 rows × 13 columns</p>\n</div>"
     },
     "metadata": {},
     "output_type": "execute_result",
     "execution_count": 4
    }
   ],
   "source": [
    "raw = get_data('idades')\n",
    "parse_multiyear_tabs(raw)"
   ]
  },
  {
   "cell_type": "markdown",
   "metadata": {},
   "source": [
    "## Por causa externa"
   ]
  },
  {
   "cell_type": "code",
   "execution_count": 5,
   "metadata": {
    "pycharm": {
     "is_executing": false
    }
   },
   "outputs": [
    {
     "data": {
      "text/plain": "    Acidente de trânsito Acidente de trabalho Eventual suicídio  \\\n0                      2                    0                 2   \n1                      1                    0                 4   \n2                      0                    0                 4   \n3                      0                    0                 1   \n4                      0                    0                 0   \n..                   ...                  ...               ...   \n167                    3                    1                 2   \n168                    1                    0                 1   \n169                    1                    0                 2   \n170                    0                    0                 1   \n171                    1                    0                 0   \n\n    Eventual homicídio Outro acidente Ignorado        data  \n0                    0              1        0  01-01-2014  \n1                    0              3        2  02-01-2014  \n2                    0              2        1  03-01-2014  \n3                    0              0        1  04-01-2014  \n4                    0              2        0  05-01-2014  \n..                 ...            ...      ...         ...  \n167                  0              3        0  16-06-2020  \n168                  0              3        2  17-06-2020  \n169                  1              2        0  18-06-2020  \n170                  0              0        0  19-06-2020  \n171                  0              0        1  20-06-2020  \n\n[2363 rows x 7 columns]",
      "text/html": "<div>\n<style scoped>\n    .dataframe tbody tr th:only-of-type {\n        vertical-align: middle;\n    }\n\n    .dataframe tbody tr th {\n        vertical-align: top;\n    }\n\n    .dataframe thead th {\n        text-align: right;\n    }\n</style>\n<table border=\"1\" class=\"dataframe\">\n  <thead>\n    <tr style=\"text-align: right;\">\n      <th></th>\n      <th>Acidente de trânsito</th>\n      <th>Acidente de trabalho</th>\n      <th>Eventual suicídio</th>\n      <th>Eventual homicídio</th>\n      <th>Outro acidente</th>\n      <th>Ignorado</th>\n      <th>data</th>\n    </tr>\n  </thead>\n  <tbody>\n    <tr>\n      <th>0</th>\n      <td>2</td>\n      <td>0</td>\n      <td>2</td>\n      <td>0</td>\n      <td>1</td>\n      <td>0</td>\n      <td>01-01-2014</td>\n    </tr>\n    <tr>\n      <th>1</th>\n      <td>1</td>\n      <td>0</td>\n      <td>4</td>\n      <td>0</td>\n      <td>3</td>\n      <td>2</td>\n      <td>02-01-2014</td>\n    </tr>\n    <tr>\n      <th>2</th>\n      <td>0</td>\n      <td>0</td>\n      <td>4</td>\n      <td>0</td>\n      <td>2</td>\n      <td>1</td>\n      <td>03-01-2014</td>\n    </tr>\n    <tr>\n      <th>3</th>\n      <td>0</td>\n      <td>0</td>\n      <td>1</td>\n      <td>0</td>\n      <td>0</td>\n      <td>1</td>\n      <td>04-01-2014</td>\n    </tr>\n    <tr>\n      <th>4</th>\n      <td>0</td>\n      <td>0</td>\n      <td>0</td>\n      <td>0</td>\n      <td>2</td>\n      <td>0</td>\n      <td>05-01-2014</td>\n    </tr>\n    <tr>\n      <th>...</th>\n      <td>...</td>\n      <td>...</td>\n      <td>...</td>\n      <td>...</td>\n      <td>...</td>\n      <td>...</td>\n      <td>...</td>\n    </tr>\n    <tr>\n      <th>167</th>\n      <td>3</td>\n      <td>1</td>\n      <td>2</td>\n      <td>0</td>\n      <td>3</td>\n      <td>0</td>\n      <td>16-06-2020</td>\n    </tr>\n    <tr>\n      <th>168</th>\n      <td>1</td>\n      <td>0</td>\n      <td>1</td>\n      <td>0</td>\n      <td>3</td>\n      <td>2</td>\n      <td>17-06-2020</td>\n    </tr>\n    <tr>\n      <th>169</th>\n      <td>1</td>\n      <td>0</td>\n      <td>2</td>\n      <td>1</td>\n      <td>2</td>\n      <td>0</td>\n      <td>18-06-2020</td>\n    </tr>\n    <tr>\n      <th>170</th>\n      <td>0</td>\n      <td>0</td>\n      <td>1</td>\n      <td>0</td>\n      <td>0</td>\n      <td>0</td>\n      <td>19-06-2020</td>\n    </tr>\n    <tr>\n      <th>171</th>\n      <td>1</td>\n      <td>0</td>\n      <td>0</td>\n      <td>0</td>\n      <td>0</td>\n      <td>1</td>\n      <td>20-06-2020</td>\n    </tr>\n  </tbody>\n</table>\n<p>2363 rows × 7 columns</p>\n</div>"
     },
     "metadata": {},
     "output_type": "execute_result",
     "execution_count": 5
    }
   ],
   "source": [
    "raw = get_data('externas')\n",
    "parse_multiyear_tabs(raw)"
   ]
  },
  {
   "cell_type": "markdown",
   "metadata": {},
   "source": [
    "## Local de óbito"
   ]
  },
  {
   "cell_type": "code",
   "execution_count": 6,
   "metadata": {
    "pycharm": {
     "is_executing": false
    }
   },
   "outputs": [
    {
     "data": {
      "text/plain": "    Desconhecido Na Instituição de Saúde No domicílio Outro local        data\n0              5                     231           99          40  01-01-2014\n1             15                     229          105          45  02-01-2014\n2              6                     252          107          34  03-01-2014\n3              2                     204           94          27  04-01-2014\n4              3                     223           96          37  05-01-2014\n..           ...                     ...          ...         ...         ...\n167            2                     153           65          48  16-06-2020\n168            2                     204           77          53  17-06-2020\n169            2                     157           55          34  18-06-2020\n170            0                     154           52          34  19-06-2020\n171            1                      67           19          18  20-06-2020\n\n[2363 rows x 5 columns]",
      "text/html": "<div>\n<style scoped>\n    .dataframe tbody tr th:only-of-type {\n        vertical-align: middle;\n    }\n\n    .dataframe tbody tr th {\n        vertical-align: top;\n    }\n\n    .dataframe thead th {\n        text-align: right;\n    }\n</style>\n<table border=\"1\" class=\"dataframe\">\n  <thead>\n    <tr style=\"text-align: right;\">\n      <th></th>\n      <th>Desconhecido</th>\n      <th>Na Instituição de Saúde</th>\n      <th>No domicílio</th>\n      <th>Outro local</th>\n      <th>data</th>\n    </tr>\n  </thead>\n  <tbody>\n    <tr>\n      <th>0</th>\n      <td>5</td>\n      <td>231</td>\n      <td>99</td>\n      <td>40</td>\n      <td>01-01-2014</td>\n    </tr>\n    <tr>\n      <th>1</th>\n      <td>15</td>\n      <td>229</td>\n      <td>105</td>\n      <td>45</td>\n      <td>02-01-2014</td>\n    </tr>\n    <tr>\n      <th>2</th>\n      <td>6</td>\n      <td>252</td>\n      <td>107</td>\n      <td>34</td>\n      <td>03-01-2014</td>\n    </tr>\n    <tr>\n      <th>3</th>\n      <td>2</td>\n      <td>204</td>\n      <td>94</td>\n      <td>27</td>\n      <td>04-01-2014</td>\n    </tr>\n    <tr>\n      <th>4</th>\n      <td>3</td>\n      <td>223</td>\n      <td>96</td>\n      <td>37</td>\n      <td>05-01-2014</td>\n    </tr>\n    <tr>\n      <th>...</th>\n      <td>...</td>\n      <td>...</td>\n      <td>...</td>\n      <td>...</td>\n      <td>...</td>\n    </tr>\n    <tr>\n      <th>167</th>\n      <td>2</td>\n      <td>153</td>\n      <td>65</td>\n      <td>48</td>\n      <td>16-06-2020</td>\n    </tr>\n    <tr>\n      <th>168</th>\n      <td>2</td>\n      <td>204</td>\n      <td>77</td>\n      <td>53</td>\n      <td>17-06-2020</td>\n    </tr>\n    <tr>\n      <th>169</th>\n      <td>2</td>\n      <td>157</td>\n      <td>55</td>\n      <td>34</td>\n      <td>18-06-2020</td>\n    </tr>\n    <tr>\n      <th>170</th>\n      <td>0</td>\n      <td>154</td>\n      <td>52</td>\n      <td>34</td>\n      <td>19-06-2020</td>\n    </tr>\n    <tr>\n      <th>171</th>\n      <td>1</td>\n      <td>67</td>\n      <td>19</td>\n      <td>18</td>\n      <td>20-06-2020</td>\n    </tr>\n  </tbody>\n</table>\n<p>2363 rows × 5 columns</p>\n</div>"
     },
     "metadata": {},
     "output_type": "execute_result",
     "execution_count": 6
    }
   ],
   "source": [
    "raw = get_data('local')\n",
    "raw = raw.replace('Instituic?o de Saude', 'Instituição de Saúde')\n",
    "raw = raw.replace('domicilio', 'domicílio')\n",
    "parse_multiyear_tabs(raw)"
   ]
  },
  {
   "cell_type": "markdown",
   "metadata": {},
   "source": [
    "## Agrupamento de Centro de Saúde"
   ]
  },
  {
   "cell_type": "code",
   "execution_count": null,
   "metadata": {
    "pycharm": {
     "is_executing": true
    }
   },
   "outputs": [],
   "source": [
    "raw = get_data('ACES')\n",
    "parse_multiyear_tabs(raw)"
   ]
  },
  {
   "cell_type": "markdown",
   "metadata": {},
   "source": [
    "## Distrito"
   ]
  },
  {
   "cell_type": "code",
   "execution_count": null,
   "metadata": {
    "pycharm": {
     "is_executing": true
    }
   },
   "outputs": [],
   "source": [
    "raw = get_data('distrito')\n",
    "parse_multiyear_tabs(raw)"
   ]
  },
  {
   "cell_type": "markdown",
   "metadata": {},
   "source": [
    "# Not working - concelhos"
   ]
  },
  {
   "cell_type": "code",
   "execution_count": null,
   "metadata": {
    "pycharm": {
     "is_executing": true
    }
   },
   "outputs": [],
   "source": [
    "#raw = get_data('concelho')\n",
    "#parse_multiyear_tabs(raw)"
   ]
  },
  {
   "cell_type": "markdown",
   "metadata": {},
   "source": [
    "## Outras tabelas\n",
    "- #### Prematura\n",
    "`get_data('prematura')`\n",
    "Muito semelhante a tabela por grupos etários\n",
    "- #### Mortalidate infantil\n",
    "`get_data('infantil')`\n",
    "Agregado por mês\n",
    "- #### Regiao de saude\n",
    "`get_data('ARS')`\n",
    "Not working"
   ]
  },
  {
   "cell_type": "markdown",
   "metadata": {},
   "source": [
    "# TODO"
   ]
  },
  {
   "cell_type": "markdown",
   "metadata": {},
   "source": [
    "- fix concelhos and ARS"
   ]
  },
  {
   "cell_type": "code",
   "execution_count": null,
   "metadata": {
    "pycharm": {
     "is_executing": true
    }
   },
   "outputs": [],
   "source": []
  }
 ],
 "metadata": {
  "kernelspec": {
   "name": "pycharm-5a7c4fcc",
   "language": "python",
   "display_name": "PyCharm (miniproject-mortalidade-covid)"
  },
  "language_info": {
   "codemirror_mode": {
    "name": "ipython",
    "version": 3
   },
   "file_extension": ".py",
   "mimetype": "text/x-python",
   "name": "python",
   "nbconvert_exporter": "python",
   "pygments_lexer": "ipython3",
   "version": "3.8.2"
  },
  "pycharm": {
   "stem_cell": {
    "cell_type": "raw",
    "source": [],
    "metadata": {
     "collapsed": false
    }
   }
  }
 },
 "nbformat": 4,
 "nbformat_minor": 4
}